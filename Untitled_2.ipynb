{
 "cells": [
  {
   "cell_type": "code",
   "execution_count": 195,
   "id": "f0a37b67-4ad4-4201-8804-0d88f9f8c6a2",
   "metadata": {},
   "outputs": [
    {
     "data": {
      "text/html": [
       "\n",
       "        <iframe\n",
       "            width=\"100%\"\n",
       "            height=\"650\"\n",
       "            src=\"http://127.0.0.1:8050/\"\n",
       "            frameborder=\"0\"\n",
       "            allowfullscreen\n",
       "            \n",
       "        ></iframe>\n",
       "        "
      ],
      "text/plain": [
       "<IPython.lib.display.IFrame at 0x1bcb4fbd550>"
      ]
     },
     "metadata": {},
     "output_type": "display_data"
    }
   ],
   "source": [
    "import plotly.io as pio\n",
    "\n",
    "fig = px.scatter(ACTIVOS, x=\"DELTA\", y=\"Sueldos y comisiones (%)\",\n",
    "                 color=\"CLUSTER\", size=\"Renta Promedio\",\n",
    "                 hover_data=[\"PDV\"])\n",
    "\n",
    "\n",
    "app = dash.Dash(__name__)\n",
    "\n",
    "# Definir el diseño de la aplicación\n",
    "app.layout = html.Div([\n",
    "    html.H1('Rentabilidad de las tiendas YTD 2023', style={'text-align': 'center'}),\n",
    "    html.Div([\n",
    "        html.Label('Filtro SC Negativo Acumulado:'),\n",
    "        dcc.Dropdown(\n",
    "            id='filtro-sc-negativo',\n",
    "            options=[{'label': str(x), 'value': x} for x in sorted(ACTIVOS['SC NEGATIVO ACUMULADO'].unique())],\n",
    "            value=None,\n",
    "            placeholder='Seleccione un valor'\n",
    "        )\n",
    "    ], style={'width': '30%', 'margin-bottom': '10px'}),\n",
    "    html.Div([\n",
    "        html.Label('Región:', style={'text-align': 'left'}),\n",
    "        html.Div([\n",
    "            dcc.Checklist(\n",
    "                id='filtro-region',\n",
    "                options=[{'label': r, 'value': r} for r in ACTIVOS['REGION'].unique()],\n",
    "                value=[],\n",
    "                labelStyle={'display': 'inline-block', 'margin-right': '10px'}\n",
    "            )\n",
    "        ], style={'display': 'inline-block', 'width': '70%', 'text-align': 'center'})\n",
    "    ], style={'width': '100%', 'margin-bottom': '10px'}),\n",
    "    html.Button('Mostrar Por Origen/Total', id='toggle-facet-col', n_clicks=0, style={'margin-bottom': '10px'}),\n",
    "    dcc.Graph(id='scatter-plot', figure=fig)\n",
    "])\n",
    "\n",
    "# Definir las funciones de actualización de la gráfica\n",
    "@app.callback(\n",
    "    dash.dependencies.Output('scatter-plot', 'figure'),\n",
    "    [dash.dependencies.Input('filtro-sc-negativo', 'value'),\n",
    "     dash.dependencies.Input('filtro-region', 'value'),\n",
    "     dash.dependencies.Input('toggle-facet-col', 'n_clicks')]\n",
    ")\n",
    "def update_scatter_plot(sc_negativo, region, n_clicks):\n",
    "    filtered_df = ACTIVOS.copy()\n",
    "    if sc_negativo is not None:\n",
    "        filtered_df = filtered_df[filtered_df['SC NEGATIVO ACUMULADO'] == sc_negativo]\n",
    "    if region:\n",
    "        filtered_df = filtered_df[filtered_df['REGION'].isin(region)]\n",
    "    \n",
    "    facet_col = \"ORIGEN\" if n_clicks % 2 == 1 else None\n",
    "    \n",
    "    updated_fig = px.scatter(filtered_df, x=\"DELTA\", y=\"Sueldos y comisiones (%)\",\n",
    "                             facet_col=facet_col,\n",
    "                             color=\"CLUSTER\", size=\"Renta Promedio\",\n",
    "                             hover_name=\"PDV\",\n",
    "                             hover_data={\n",
    "                                 \"ORIGEN\": True,\n",
    "                                 \"CLASIFICACION\": True,\n",
    "                                 \"HC\": \":,.0f\",\n",
    "                                 'ARPU': ':$.0f',\n",
    "                                 \"MAP\": \":,.0f\",\n",
    "                                 \"BREAK EVEN\": \":,.0f\",\n",
    "                                 \"Renta Promedio\": \":$,.0f\"\n",
    "                             })\n",
    "    return updated_fig\n",
    "\n",
    "# Ejecutar la aplicación Dash\n",
    "if __name__ == '__main__':\n",
    "    app.run_server(debug=True)\n",
    "    "
   ]
  },
  {
   "cell_type": "code",
   "execution_count": null,
   "id": "3a850129-fa6b-459e-afd0-d0cec61cb617",
   "metadata": {},
   "outputs": [],
   "source": []
  }
 ],
 "metadata": {
  "kernelspec": {
   "display_name": "Python 3 (ipykernel)",
   "language": "python",
   "name": "python3"
  },
  "language_info": {
   "codemirror_mode": {
    "name": "ipython",
    "version": 3
   },
   "file_extension": ".py",
   "mimetype": "text/x-python",
   "name": "python",
   "nbconvert_exporter": "python",
   "pygments_lexer": "ipython3",
   "version": "3.9.13"
  }
 },
 "nbformat": 4,
 "nbformat_minor": 5
}
